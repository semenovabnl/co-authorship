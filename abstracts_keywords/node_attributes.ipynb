{
 "cells": [
  {
   "cell_type": "code",
   "execution_count": 1,
   "metadata": {},
   "outputs": [],
   "source": [
    "import numpy as np\n",
    "import collections\n",
    "import os\n",
    "import pandas as pd\n",
    "import matplotlib.pyplot as plt\n",
    "import networkx as nx\n",
    "from sklearn.linear_model import LogisticRegression\n",
    "from sklearn import preprocessing\n",
    "from sklearn.ensemble import RandomForestClassifier\n",
    "from sklearn.model_selection import cross_val_predict, cross_val_score\n",
    "from sklearn import metrics\n",
    "from sklearn.metrics import r2_score\n",
    "from sklearn import svm\n",
    "from sklearn.ensemble import GradientBoostingClassifier\n",
    "from sklearn.metrics import roc_auc_score\n",
    "from sklearn.metrics import precision_score\n",
    "from sklearn.metrics import accuracy_score\n",
    "from sklearn.metrics import f1_score\n",
    "from sklearn.metrics import log_loss\n",
    "from sklearn.metrics import roc_auc_score\n",
    "from pprint import pprint\n",
    "plt.figure(figsize=(10,15))\n",
    "from os.path import isfile, join\n",
    "import re\n",
    "from tqdm import tqdm"
   ]
  },
  {
   "cell_type": "code",
   "execution_count": 2,
   "metadata": {},
   "outputs": [],
   "source": [
    "Graph=nx.read_gml(\"HSE_coauthorship_graph\")"
   ]
  },
  {
   "cell_type": "code",
   "execution_count": 3,
   "metadata": {},
   "outputs": [],
   "source": [
    "nodes = Graph.nodes()"
   ]
  },
  {
   "cell_type": "code",
   "execution_count": 4,
   "metadata": {},
   "outputs": [],
   "source": [
    "edges = Graph.edges(data=True)"
   ]
  },
  {
   "cell_type": "code",
   "execution_count": 5,
   "metadata": {},
   "outputs": [],
   "source": [
    "lst_edges = list(edges)"
   ]
  },
  {
   "cell_type": "code",
   "execution_count": 6,
   "metadata": {},
   "outputs": [
    {
     "data": {
      "text/plain": [
       "66537"
      ]
     },
     "execution_count": 6,
     "metadata": {},
     "output_type": "execute_result"
    }
   ],
   "source": [
    "Graph.number_of_nodes()"
   ]
  },
  {
   "cell_type": "code",
   "execution_count": 7,
   "metadata": {},
   "outputs": [],
   "source": [
    "#загрузка ребер с негатив семплинг\n",
    "f_abstract = open('./edge_list_AT.txt')\n",
    "f_keywords = open('./edge_list_KW.txt')\n",
    "\n",
    "edge_abstract = []\n",
    "edge_keywords = []\n",
    "\n",
    "for line in f_abstract:\n",
    "    edge_abstract.append(line.split(' '))\n",
    "for line in f_keywords:\n",
    "    edge_keywords.append(line.split(' '))\n",
    "f_abstract.close()\n",
    "f_keywords.close()\n",
    "\n",
    "for i in range(len(edge_abstract)):\n",
    "    edge_abstract[i][2] = edge_abstract[i][2][:-1]\n",
    "\n",
    "for i in range(len(edge_keywords)):\n",
    "    edge_keywords[i][2] = edge_keywords[i][2][:-1]"
   ]
  },
  {
   "cell_type": "code",
   "execution_count": 52,
   "metadata": {},
   "outputs": [],
   "source": [
    "edge_abstract_0 = [[e[0],' '.join(e[2:])[:-1]] for e in edge_abstract]\n",
    "edge_abstract_1 = [[e[1],' '.join(e[2:])[:-1]] for e in edge_abstract]"
   ]
  },
  {
   "cell_type": "code",
   "execution_count": 53,
   "metadata": {},
   "outputs": [],
   "source": [
    "edge_keywords_0 = [[e[0],' '.join(e[2:])[:-1]] for e in edge_keywords]\n",
    "edge_keywords_1 = [[e[1],' '.join(e[2:])[:-1]] for e in edge_keywords]"
   ]
  },
  {
   "cell_type": "code",
   "execution_count": 54,
   "metadata": {},
   "outputs": [],
   "source": [
    "uniq_a_0 = set([e[0] for e in edge_abstract_0])\n",
    "uniq_a_1 = set([e[0] for e in edge_abstract_1])"
   ]
  },
  {
   "cell_type": "code",
   "execution_count": 129,
   "metadata": {},
   "outputs": [],
   "source": [
    "uniq_kw_0 = set([e[0] for e in edge_keywords_0])\n",
    "uniq_kw_1 = set([e[0] for e in edge_keywords_1])"
   ]
  },
  {
   "cell_type": "code",
   "execution_count": 130,
   "metadata": {},
   "outputs": [
    {
     "name": "stderr",
     "output_type": "stream",
     "text": [
      "100%|██████████| 33902/33902 [06:27<00:00, 87.56it/s]\n"
     ]
    }
   ],
   "source": [
    "dct_edge_kw_0 = collect_abstracts(uniq_kw_0, edge_keywords_0)"
   ]
  },
  {
   "cell_type": "code",
   "execution_count": 132,
   "metadata": {},
   "outputs": [
    {
     "name": "stderr",
     "output_type": "stream",
     "text": [
      "100%|██████████| 37302/37302 [07:14<00:00, 85.93it/s]\n"
     ]
    }
   ],
   "source": [
    "dct_edge_kw_1 = collect_abstracts(uniq_kw_1, edge_keywords_1)"
   ]
  },
  {
   "cell_type": "code",
   "execution_count": 131,
   "metadata": {},
   "outputs": [],
   "source": [
    "dct_keywords_0 = {key:' '.join(val) for key,val in dct_edge_kw_0.items()}"
   ]
  },
  {
   "cell_type": "code",
   "execution_count": 133,
   "metadata": {},
   "outputs": [],
   "source": [
    "dct_keywords_1 = {key:' '.join(val) for key,val in dct_edge_kw_1.items()}"
   ]
  },
  {
   "cell_type": "code",
   "execution_count": 134,
   "metadata": {},
   "outputs": [],
   "source": [
    "data_kw_0 = pd.DataFrame()"
   ]
  },
  {
   "cell_type": "code",
   "execution_count": 135,
   "metadata": {},
   "outputs": [],
   "source": [
    "data_kw_0['node'] = dct_keywords_0.keys()\n",
    "data_kw_0['abstract'] = list(dct_keywords_0.values())"
   ]
  },
  {
   "cell_type": "code",
   "execution_count": 136,
   "metadata": {},
   "outputs": [],
   "source": [
    "data_kw_0.to_csv('data_kw_0.csv', index=False)"
   ]
  },
  {
   "cell_type": "code",
   "execution_count": 138,
   "metadata": {},
   "outputs": [],
   "source": [
    "data_kw_1 = pd.DataFrame()"
   ]
  },
  {
   "cell_type": "code",
   "execution_count": 139,
   "metadata": {},
   "outputs": [],
   "source": [
    "data_kw_1['node'] = dct_keywords_1.keys()\n",
    "data_kw_1['abstract'] = list(dct_keywords_1.values())"
   ]
  },
  {
   "cell_type": "code",
   "execution_count": 101,
   "metadata": {},
   "outputs": [
    {
     "data": {
      "text/plain": [
       "37302"
      ]
     },
     "execution_count": 101,
     "metadata": {},
     "output_type": "execute_result"
    }
   ],
   "source": [
    "len(uniq_a_1)"
   ]
  },
  {
   "cell_type": "code",
   "execution_count": 92,
   "metadata": {},
   "outputs": [
    {
     "name": "stderr",
     "output_type": "stream",
     "text": [
      "100%|██████████| 37302/37302 [12:45<00:00, 48.75it/s]\n"
     ]
    }
   ],
   "source": [
    "dct_edge_abstract_1 = collect_abstracts(uniq_a_1, edge_abstract_1)"
   ]
  },
  {
   "cell_type": "code",
   "execution_count": 93,
   "metadata": {},
   "outputs": [],
   "source": [
    "dct_abstract_1 = {key:' '.join(val) for key,val in dct_edge_abstract_1.items()}"
   ]
  },
  {
   "cell_type": "code",
   "execution_count": 95,
   "metadata": {},
   "outputs": [],
   "source": [
    "data_1 = pd.DataFrame()"
   ]
  },
  {
   "cell_type": "code",
   "execution_count": 96,
   "metadata": {},
   "outputs": [],
   "source": [
    "data_1['node'] = dct_abstract_1.keys()\n",
    "data_1['abstract'] = list(dct_abstract_1.values())"
   ]
  },
  {
   "cell_type": "code",
   "execution_count": 98,
   "metadata": {},
   "outputs": [],
   "source": [
    "data_1.to_csv('data_1.csv', index=False)"
   ]
  },
  {
   "cell_type": "code",
   "execution_count": 91,
   "metadata": {},
   "outputs": [],
   "source": [
    "def collect_abstracts(uniq, edges):\n",
    "    dct_edge_abstract = {}\n",
    "    for item in tqdm(uniq):\n",
    "        for edge in edges:\n",
    "            if edge[0]==item:\n",
    "                if edge[0] in dct_edge_abstract.keys():\n",
    "                    if edge[1] in dct_edge_abstract[edge[0]]:\n",
    "                        continue\n",
    "                    else:\n",
    "    #                     dct_edge_abstract_0[edge[0]]+=(' '+edge[1])\n",
    "                        dct_edge_abstract[edge[0]].append(edge[1])\n",
    "                else:\n",
    "                    dct_edge_abstract[edge[0]]=[edge[1]]\n",
    "    return dct_edge_abstract"
   ]
  },
  {
   "cell_type": "code",
   "execution_count": 72,
   "metadata": {},
   "outputs": [],
   "source": [
    "dct_abstract_0 = {key:' '.join(val) for key,val in dct_edge_abstract_0.items()}"
   ]
  },
  {
   "cell_type": "code",
   "execution_count": 89,
   "metadata": {},
   "outputs": [
    {
     "data": {
      "text/plain": [
       "' 2018 The Authors. Published by Elsevier Ltd. The Asian countries (Sri Lanka, Thailand, Bangladesh) in the ASCENT project have an unequally spread out and restricted RTD ability. An interactive and cooperative university-industry partnership can increase the quality of life and reduce the risk of disaster. Here the fields where universities consider the involvement of industry are recognized (e.g., fundamental and applied research, development, production life cycle and such). There is a recognized need for the private sector to engage the research community in the context of disaster resilience research to tackle disaster risk. The definition of \"industry\" in this research is deliberately vague to allow exploration of what useful collaborations \"industries\" can develop with universities for disaster management research (here collaborations mean different life cycle interactions). There is the need for an integrated multiple criteria decision analysis to mitigate the effects of disaster on the built environment at three levels: the micro (research and innovation performance, transfer and absorptive capacity, technology development), meso (institutional arrangements, communication network, local and indigenous rules) and macro (supply and demand, regulations, financing, taxes, culture, traditions, market, climate, political, demographic, technology) levels. Disaster management involves numerous aspects for consideration in addition to making economic, political and legal/regulatory decisions. These must include social, cultural, ethical, psychological, educational, environmental, provisional, technological, technical, organizational and managerial aspects. This research produced a model and a system for integrated analysis of the iterative life cycle of university-industry partnerships. The model and the system make it possible to perform multi-variant design and multiple criteria assessment of alternative university-industry partnership life cycles, calculate their market and investment value, conduct online negotiations, and select options that offer the best efficiency.'"
      ]
     },
     "execution_count": 89,
     "metadata": {},
     "output_type": "execute_result"
    }
   ],
   "source": [
    "dct_abstract_0['57201091312']"
   ]
  },
  {
   "cell_type": "code",
   "execution_count": 74,
   "metadata": {},
   "outputs": [],
   "source": [
    "data_0 = pd.DataFrame()"
   ]
  },
  {
   "cell_type": "code",
   "execution_count": 75,
   "metadata": {},
   "outputs": [],
   "source": [
    "data_0['node'] = dct_abstract_0.keys()"
   ]
  },
  {
   "cell_type": "code",
   "execution_count": 82,
   "metadata": {},
   "outputs": [],
   "source": [
    "data_0['abstract'] = list(dct_abstract_0.values())"
   ]
  },
  {
   "cell_type": "code",
   "execution_count": 90,
   "metadata": {},
   "outputs": [],
   "source": [
    "data_0.to_csv('data_0.csv', index=False)"
   ]
  },
  {
   "cell_type": "code",
   "execution_count": 71,
   "metadata": {},
   "outputs": [
    {
     "data": {
      "text/plain": [
       "' 2018 Elsevier B.V. Transport properties of bulk indium-opal and indium-porous glass superconducting nanocomposites possessing moderate and strong disorder are investigated. A strongly nonmonotonous dependence of the global critical temperature Tc versus normal state conductivity of samples is found. The maximum, which is observed at moderate disorder, has Tc higher than that of clean bulk indium. The increasing part can be explained by the Eliashberg equations with disorder and an additional mechanism of interaction between superconducting and dielectric granules. The descending part of the maximum at higher disorder can be explained by the increasing of long-range Coulomb repulsion due to diffusion of charges. Negative slope in magnetic field dependence of resistivity and a peak in the temperature dependence of resistivity, observed in the sample near the proximity to the disorder-induced superconductor–insulator transition (SIT). A large difference between the onset temperature of superconducting fluctuations, Tcon, and global critical temperature Tc is found and considered in the framework of the weak multifractal theory. Slow time-logarithmic relaxation of the resistivity between Tc and Tcon is observed, which assumes existence of the precursor state near the SIT. This unusual state is discussed in the scope of the many-body localization theory.  2017 Elsevier B.V. Structural, magnetic and magnetotransport properties of (Bi1-xEux)2Se3 thin films have been studied experimentally as a function of Eu content. The films were synthesized by MBE. It is demonstrated that Eu distribution is not uniform, it enter quint-layers forming inside them plain (pancake-like) areas containing Eu atoms, which sizes and concentration increase with the growth of Eu content. Positive magnetoresistance related to the weak antilocalization was observed up to 15 K. The antilocalization was not followed by weak localization as theory predicts for nontrivial topological states. Surprisingly, the features of antilocalization were seen even at Eu content x=0.21. With the increase of Eu content the transition to ferromagnetic state occurs at x about 0.1 and with the Curie temperature ≈8 K, that rises up to 64 K for x=0.21. At temperatures above 1–2 K, the dephasing length is proportional to T-1/2 indicating the dominant contribution of inelastic e-e scattering into electron phase breaking. However, at low temperatures the dephasing length saturates, that could be due to the scattering on magnetic ions.'"
      ]
     },
     "execution_count": 71,
     "metadata": {},
     "output_type": "execute_result"
    }
   ],
   "source": [
    "' '.join(dct_edge_abstract_0['55409279100'])"
   ]
  },
  {
   "cell_type": "code",
   "execution_count": 1,
   "metadata": {},
   "outputs": [],
   "source": [
    "# dct_edge_abstract_0.keys()"
   ]
  },
  {
   "cell_type": "code",
   "execution_count": 4,
   "metadata": {},
   "outputs": [],
   "source": [
    "edge_abstract_dict = {(e[0], e[1]) : e[2] for e in edge_abstract}\n",
    "edge_keywords_dict = {(e[0], e[1]) : e[2] for e in edge_keywords}"
   ]
  },
  {
   "cell_type": "code",
   "execution_count": 110,
   "metadata": {},
   "outputs": [],
   "source": [
    "merg_data_01 = data_1[data_1.node.isin(list(data_0.node))==True]"
   ]
  },
  {
   "cell_type": "code",
   "execution_count": 112,
   "metadata": {},
   "outputs": [],
   "source": [
    "data_0_merg = data_0[data_0.node.isin(list(merg_data_01.node))==True]"
   ]
  },
  {
   "cell_type": "code",
   "execution_count": 116,
   "metadata": {},
   "outputs": [],
   "source": [
    "merged_01 = pd.merge(merg_data_01, data_0_merg, on='node', how='inner')"
   ]
  },
  {
   "cell_type": "code",
   "execution_count": 163,
   "metadata": {},
   "outputs": [
    {
     "name": "stdout",
     "output_type": "stream",
     "text": [
      "<class 'pandas.core.frame.DataFrame'>\n",
      "Int64Index: 24892 entries, 0 to 24891\n",
      "Data columns (total 3 columns):\n",
      "node          24892 non-null object\n",
      "abstract_x    24892 non-null object\n",
      "abstract_y    24892 non-null object\n",
      "dtypes: object(3)\n",
      "memory usage: 1.4+ MB\n"
     ]
    }
   ],
   "source": [
    "merged_01.info()"
   ]
  },
  {
   "cell_type": "code",
   "execution_count": 170,
   "metadata": {},
   "outputs": [],
   "source": [
    "merged_01.to_csv('merged_01.csv', index=False)"
   ]
  },
  {
   "cell_type": "code",
   "execution_count": 121,
   "metadata": {},
   "outputs": [],
   "source": [
    "equal_01 = merged_01[merged_01.abstract_x==merged_01.abstract_y]"
   ]
  },
  {
   "cell_type": "code",
   "execution_count": 157,
   "metadata": {},
   "outputs": [],
   "source": [
    "bound = merged_01[~merged_01.isin(equal_01)].dropna()"
   ]
  },
  {
   "cell_type": "code",
   "execution_count": 159,
   "metadata": {},
   "outputs": [],
   "source": [
    "bound['concat'] = bound[['abstract_x', 'abstract_y']].apply(lambda x: ' '.join(x), axis=1)"
   ]
  },
  {
   "cell_type": "code",
   "execution_count": 161,
   "metadata": {},
   "outputs": [],
   "source": [
    "bound_done = bound[['node','concat']]"
   ]
  },
  {
   "cell_type": "code",
   "execution_count": 165,
   "metadata": {},
   "outputs": [
    {
     "data": {
      "text/html": [
       "<div>\n",
       "<style scoped>\n",
       "    .dataframe tbody tr th:only-of-type {\n",
       "        vertical-align: middle;\n",
       "    }\n",
       "\n",
       "    .dataframe tbody tr th {\n",
       "        vertical-align: top;\n",
       "    }\n",
       "\n",
       "    .dataframe thead th {\n",
       "        text-align: right;\n",
       "    }\n",
       "</style>\n",
       "<table border=\"1\" class=\"dataframe\">\n",
       "  <thead>\n",
       "    <tr style=\"text-align: right;\">\n",
       "      <th></th>\n",
       "      <th>node</th>\n",
       "      <th>concat</th>\n",
       "    </tr>\n",
       "  </thead>\n",
       "  <tbody>\n",
       "    <tr>\n",
       "      <th>8</th>\n",
       "      <td>57021625100</td>\n",
       "      <td>I connection with the change of technological ...</td>\n",
       "    </tr>\n",
       "    <tr>\n",
       "      <th>13</th>\n",
       "      <td>7004373913</td>\n",
       "      <td>2014 IEEE.  We investigate the response mecha...</td>\n",
       "    </tr>\n",
       "    <tr>\n",
       "      <th>19</th>\n",
       "      <td>57202547372</td>\n",
       "      <td>2018 Ruslania. All rights reserved. It is the...</td>\n",
       "    </tr>\n",
       "    <tr>\n",
       "      <th>27</th>\n",
       "      <td>55177729700</td>\n",
       "      <td>2018 Elsevier Inc.  Objective: The aim of thi...</td>\n",
       "    </tr>\n",
       "    <tr>\n",
       "      <th>28</th>\n",
       "      <td>27367833300</td>\n",
       "      <td>2018 Michail, Nikulin, Curio, Maess and Herro...</td>\n",
       "    </tr>\n",
       "  </tbody>\n",
       "</table>\n",
       "</div>"
      ],
      "text/plain": [
       "           node                                             concat\n",
       "8   57021625100  I connection with the change of technological ...\n",
       "13   7004373913   2014 IEEE.  We investigate the response mecha...\n",
       "19  57202547372   2018 Ruslania. All rights reserved. It is the...\n",
       "27  55177729700   2018 Elsevier Inc.  Objective: The aim of thi...\n",
       "28  27367833300   2018 Michail, Nikulin, Curio, Maess and Herro..."
      ]
     },
     "execution_count": 165,
     "metadata": {},
     "output_type": "execute_result"
    }
   ],
   "source": [
    "bound_done.head()"
   ]
  },
  {
   "cell_type": "code",
   "execution_count": 172,
   "metadata": {},
   "outputs": [],
   "source": [
    "equal = equal_01[['node','abstract_x']]"
   ]
  },
  {
   "cell_type": "code",
   "execution_count": 178,
   "metadata": {},
   "outputs": [],
   "source": [
    "equal = equal.rename(columns={\"node\": \"node\", \"abstract_x\": \"abstract\"})\n",
    "bound_done = bound_done.rename(columns={\"node\": \"node\", \"concat\": \"abstract\"})"
   ]
  },
  {
   "cell_type": "code",
   "execution_count": 182,
   "metadata": {},
   "outputs": [],
   "source": [
    "bound_equal = pd.concat([bound_done, equal],ignore_index=True)"
   ]
  },
  {
   "cell_type": "code",
   "execution_count": 181,
   "metadata": {},
   "outputs": [
    {
     "name": "stdout",
     "output_type": "stream",
     "text": [
      "4533\n",
      "20359\n"
     ]
    }
   ],
   "source": [
    "print(len(bound_done))\n",
    "print(len(equal))"
   ]
  },
  {
   "cell_type": "code",
   "execution_count": 184,
   "metadata": {},
   "outputs": [
    {
     "data": {
      "text/plain": [
       "24892"
      ]
     },
     "execution_count": 184,
     "metadata": {},
     "output_type": "execute_result"
    }
   ],
   "source": [
    "len(bound_equal)"
   ]
  },
  {
   "cell_type": "code",
   "execution_count": 190,
   "metadata": {},
   "outputs": [
    {
     "data": {
      "text/html": [
       "<div>\n",
       "<style scoped>\n",
       "    .dataframe tbody tr th:only-of-type {\n",
       "        vertical-align: middle;\n",
       "    }\n",
       "\n",
       "    .dataframe tbody tr th {\n",
       "        vertical-align: top;\n",
       "    }\n",
       "\n",
       "    .dataframe thead th {\n",
       "        text-align: right;\n",
       "    }\n",
       "</style>\n",
       "<table border=\"1\" class=\"dataframe\">\n",
       "  <thead>\n",
       "    <tr style=\"text-align: right;\">\n",
       "      <th></th>\n",
       "      <th>node</th>\n",
       "      <th>abstract</th>\n",
       "    </tr>\n",
       "  </thead>\n",
       "  <tbody>\n",
       "  </tbody>\n",
       "</table>\n",
       "</div>"
      ],
      "text/plain": [
       "Empty DataFrame\n",
       "Columns: [node, abstract]\n",
       "Index: []"
      ]
     },
     "execution_count": 190,
     "metadata": {},
     "output_type": "execute_result"
    }
   ],
   "source": [
    "bound_equal[bound_equal.node=='57190183804']"
   ]
  },
  {
   "cell_type": "code",
   "execution_count": 191,
   "metadata": {},
   "outputs": [
    {
     "data": {
      "text/plain": [
       "33902"
      ]
     },
     "execution_count": 191,
     "metadata": {},
     "output_type": "execute_result"
    }
   ],
   "source": [
    "len(data_0)"
   ]
  },
  {
   "cell_type": "code",
   "execution_count": 192,
   "metadata": {},
   "outputs": [],
   "source": [
    "sub_data_0 = data_0[~data_0.node.isin(list(bound_equal.node))==True]"
   ]
  },
  {
   "cell_type": "code",
   "execution_count": 193,
   "metadata": {},
   "outputs": [],
   "source": [
    "sub_data_1 = data_1[~data_1.node.isin(list(bound_equal.node))==True]"
   ]
  },
  {
   "cell_type": "code",
   "execution_count": 194,
   "metadata": {},
   "outputs": [
    {
     "data": {
      "text/plain": [
       "12410"
      ]
     },
     "execution_count": 194,
     "metadata": {},
     "output_type": "execute_result"
    }
   ],
   "source": [
    "len(sub_data_1)"
   ]
  },
  {
   "cell_type": "code",
   "execution_count": 195,
   "metadata": {},
   "outputs": [
    {
     "data": {
      "text/plain": [
       "37302"
      ]
     },
     "execution_count": 195,
     "metadata": {},
     "output_type": "execute_result"
    }
   ],
   "source": [
    "len(data_1)"
   ]
  },
  {
   "cell_type": "code",
   "execution_count": 197,
   "metadata": {},
   "outputs": [],
   "source": [
    "sub_concat = pd.concat([sub_data_0, sub_data_1],ignore_index=True)"
   ]
  },
  {
   "cell_type": "code",
   "execution_count": 198,
   "metadata": {},
   "outputs": [
    {
     "data": {
      "text/plain": [
       "21420"
      ]
     },
     "execution_count": 198,
     "metadata": {},
     "output_type": "execute_result"
    }
   ],
   "source": [
    "len(sub_concat)"
   ]
  },
  {
   "cell_type": "code",
   "execution_count": 199,
   "metadata": {},
   "outputs": [],
   "source": [
    "done = pd.concat([bound_equal, sub_concat],ignore_index=True)"
   ]
  },
  {
   "cell_type": "code",
   "execution_count": 200,
   "metadata": {},
   "outputs": [
    {
     "data": {
      "text/plain": [
       "46312"
      ]
     },
     "execution_count": 200,
     "metadata": {},
     "output_type": "execute_result"
    }
   ],
   "source": [
    "len(done)"
   ]
  },
  {
   "cell_type": "code",
   "execution_count": 203,
   "metadata": {},
   "outputs": [],
   "source": [
    "Graph_2017 = nx.read_weighted_edgelist(\"./edge_list_.txt\", delimiter=' ',nodetype=int)"
   ]
  },
  {
   "cell_type": "code",
   "execution_count": 204,
   "metadata": {},
   "outputs": [
    {
     "data": {
      "text/plain": [
       "46312"
      ]
     },
     "execution_count": 204,
     "metadata": {},
     "output_type": "execute_result"
    }
   ],
   "source": [
    "Graph_2017.number_of_nodes()"
   ]
  },
  {
   "cell_type": "code",
   "execution_count": 205,
   "metadata": {},
   "outputs": [],
   "source": [
    "done.to_csv('node_attribute_abstract.csv', index=False)"
   ]
  },
  {
   "cell_type": "markdown",
   "metadata": {},
   "source": [
    "### KEYWORDS"
   ]
  },
  {
   "cell_type": "code",
   "execution_count": 209,
   "metadata": {},
   "outputs": [],
   "source": [
    "merg_data_kw01 = data_kw_1[data_kw_1.node.isin(list(data_kw_0.node))==True]"
   ]
  },
  {
   "cell_type": "code",
   "execution_count": 210,
   "metadata": {},
   "outputs": [],
   "source": [
    "data_kw0_merg = data_kw_0[data_kw_0.node.isin(list(merg_data_kw01.node))==True]"
   ]
  },
  {
   "cell_type": "code",
   "execution_count": 212,
   "metadata": {},
   "outputs": [],
   "source": [
    "merged_01_kw = pd.merge(merg_data_kw01, data_kw0_merg, on='node', how='inner')"
   ]
  },
  {
   "cell_type": "code",
   "execution_count": 214,
   "metadata": {},
   "outputs": [],
   "source": [
    "merged_01_kw.to_csv('merged_01_kw.csv', index=False)"
   ]
  },
  {
   "cell_type": "code",
   "execution_count": 215,
   "metadata": {},
   "outputs": [],
   "source": [
    "equal_01_kw = merged_01_kw[merged_01_kw.abstract_x==merged_01_kw.abstract_y]"
   ]
  },
  {
   "cell_type": "code",
   "execution_count": 216,
   "metadata": {},
   "outputs": [],
   "source": [
    "bound_kw = merged_01_kw[~merged_01_kw.isin(equal_01_kw)].dropna()"
   ]
  },
  {
   "cell_type": "code",
   "execution_count": 217,
   "metadata": {},
   "outputs": [],
   "source": [
    "bound_kw['concat'] = bound_kw[['abstract_x', 'abstract_y']].apply(lambda x: ' '.join(x), axis=1)"
   ]
  },
  {
   "cell_type": "code",
   "execution_count": 218,
   "metadata": {},
   "outputs": [],
   "source": [
    "bound_done_kw = bound_kw[['node','concat']]"
   ]
  },
  {
   "cell_type": "code",
   "execution_count": 219,
   "metadata": {},
   "outputs": [],
   "source": [
    "equal_kw = equal_01_kw[['node','abstract_x']]"
   ]
  },
  {
   "cell_type": "code",
   "execution_count": 220,
   "metadata": {},
   "outputs": [],
   "source": [
    "equal_kw = equal_kw.rename(columns={\"node\": \"node\", \"abstract_x\": \"abstract\"})\n",
    "bound_done_kw = bound_done_kw.rename(columns={\"node\": \"node\", \"concat\": \"abstract\"})"
   ]
  },
  {
   "cell_type": "code",
   "execution_count": 221,
   "metadata": {},
   "outputs": [],
   "source": [
    "bound_equal_kw = pd.concat([bound_done_kw, equal_kw],ignore_index=True)"
   ]
  },
  {
   "cell_type": "code",
   "execution_count": 222,
   "metadata": {},
   "outputs": [],
   "source": [
    "sub_data_0_kw = data_kw_0[~data_kw_0.node.isin(list(bound_equal_kw.node))==True]"
   ]
  },
  {
   "cell_type": "code",
   "execution_count": 223,
   "metadata": {},
   "outputs": [],
   "source": [
    "sub_data_1_kw = data_kw_1[~data_kw_1.node.isin(list(bound_equal_kw.node))==True]"
   ]
  },
  {
   "cell_type": "code",
   "execution_count": 224,
   "metadata": {},
   "outputs": [],
   "source": [
    "sub_concat_kw = pd.concat([sub_data_0_kw, sub_data_1_kw],ignore_index=True)"
   ]
  },
  {
   "cell_type": "code",
   "execution_count": 227,
   "metadata": {},
   "outputs": [],
   "source": [
    "done_kw = pd.concat([bound_equal_kw, sub_concat_kw],ignore_index=True)"
   ]
  },
  {
   "cell_type": "code",
   "execution_count": 229,
   "metadata": {},
   "outputs": [],
   "source": [
    "done_kw.to_csv('node_attribute_keywords.csv', index=False)"
   ]
  },
  {
   "cell_type": "code",
   "execution_count": null,
   "metadata": {},
   "outputs": [],
   "source": []
  }
 ],
 "metadata": {
  "kernelspec": {
   "display_name": "Python 3",
   "language": "python",
   "name": "python3"
  },
  "language_info": {
   "codemirror_mode": {
    "name": "ipython",
    "version": 3
   },
   "file_extension": ".py",
   "mimetype": "text/x-python",
   "name": "python",
   "nbconvert_exporter": "python",
   "pygments_lexer": "ipython3",
   "version": "3.6.5"
  }
 },
 "nbformat": 4,
 "nbformat_minor": 2
}
